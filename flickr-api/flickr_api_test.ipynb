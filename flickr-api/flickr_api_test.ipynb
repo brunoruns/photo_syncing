{
 "cells": [
  {
   "cell_type": "code",
   "execution_count": 1,
   "metadata": {},
   "outputs": [
    {
     "name": "stdout",
     "output_type": "stream",
     "text": [
      "PXL_20221229_182010099.jpg succesfully read ?\n"
     ]
    }
   ],
   "source": [
    "#listing all files to upload\n",
    "import pickle\n",
    "import os\n",
    "from PIL import Image\n",
    "\n",
    "source_folder = \"../google-photos-api/downloads/\"\n",
    "files_list = os.listdir(source_folder)\n",
    "\n",
    "for file_name in files_list[:1]:\n",
    "    im = Image.open(os.path.join(source_folder, file_name))  \n",
    "    print(file_name + \" succesfully read ?\")\n",
    "    im.show\n"
   ]
  },
  {
   "cell_type": "code",
   "execution_count": 2,
   "metadata": {},
   "outputs": [],
   "source": [
    "#reading credentials\n",
    "import json\n",
    "\n",
    "def js_r(filename):\n",
    "   with open(filename) as f_in:\n",
    "       return(json.load(f_in))\n",
    "\n",
    "cred_file = \"credentials/client_secret.json\"\n",
    "cred_data = js_r(cred_file)"
   ]
  },
  {
   "attachments": {},
   "cell_type": "markdown",
   "metadata": {},
   "source": [
    "### Not properly working"
   ]
  },
  {
   "cell_type": "code",
   "execution_count": 10,
   "metadata": {},
   "outputs": [
    {
     "name": "stderr",
     "output_type": "stream",
     "text": [
      "127.0.0.1 - - [30/Jan/2023 13:19:41] code 400, message Bad request version ('ºº\\x13\\x01\\x13\\x02\\x13\\x03À+À/À,À0Ì©Ì¨À\\x13À\\x14\\x00\\x9c\\x00\\x9d\\x00/\\x005\\x01\\x00\\x01\\x93')\n",
      "² ¾§¿b}PCtè\u000fÞ\u0017\u0007\u0018 Güc¹\u0006ª6#Äm±,,Ò\u0004ÈQ\u0006@æø/ûÉ\u0019\u001b¼Ì\u0000 ºº\u0013\u0001\u0013\u0002\u0013\u0003À+À/À,À0Ì©Ì¨À\u0013À\u0014\u0000\u0000\u0000/\u00005\u0001\u0000\u0001\" 400 -\n"
     ]
    },
    {
     "ename": "AssertionError",
     "evalue": "verifier must be unicode text type",
     "output_type": "error",
     "traceback": [
      "\u001b[0;31m---------------------------------------------------------------------------\u001b[0m",
      "\u001b[0;31mAssertionError\u001b[0m                            Traceback (most recent call last)",
      "\u001b[1;32m/home/bruno/git/photo_syncing/flickr-api/flickr_api_test.ipynb Cell 3\u001b[0m in \u001b[0;36m<cell line: 10>\u001b[0;34m()\u001b[0m\n\u001b[1;32m      <a href='vscode-notebook-cell:/home/bruno/git/photo_syncing/flickr-api/flickr_api_test.ipynb#W2sZmlsZQ%3D%3D?line=6'>7</a>\u001b[0m api_secret \u001b[39m=\u001b[39m \u001b[39mu\u001b[39m\u001b[39m\"\u001b[39m\u001b[39m42cce399bc0a5f13\u001b[39m\u001b[39m\"\u001b[39m\n\u001b[1;32m      <a href='vscode-notebook-cell:/home/bruno/git/photo_syncing/flickr-api/flickr_api_test.ipynb#W2sZmlsZQ%3D%3D?line=8'>9</a>\u001b[0m flickr \u001b[39m=\u001b[39m flickrapi\u001b[39m.\u001b[39mFlickrAPI(api_key, api_secret)\n\u001b[0;32m---> <a href='vscode-notebook-cell:/home/bruno/git/photo_syncing/flickr-api/flickr_api_test.ipynb#W2sZmlsZQ%3D%3D?line=9'>10</a>\u001b[0m flickr\u001b[39m.\u001b[39;49mauthenticate_via_browser(perms\u001b[39m=\u001b[39;49m\u001b[39m'\u001b[39;49m\u001b[39mwrite\u001b[39;49m\u001b[39m'\u001b[39;49m)\n",
      "File \u001b[0;32m~/miniconda3/envs/photo_sync/lib/python3.10/site-packages/flickrapi/core.py:125\u001b[0m, in \u001b[0;36mauthenticator.<locals>.decorated\u001b[0;34m(self, *args, **kwargs)\u001b[0m\n\u001b[1;32m    120\u001b[0m \u001b[39mif\u001b[39;00m \u001b[39mself\u001b[39m\u001b[39m.\u001b[39mtoken_valid(perms\u001b[39m=\u001b[39mperms):\n\u001b[1;32m    121\u001b[0m     \u001b[39m# Token is valid, and for the expected permissions, so no\u001b[39;00m\n\u001b[1;32m    122\u001b[0m     \u001b[39m# need to continue authentication.\u001b[39;00m\n\u001b[1;32m    123\u001b[0m     \u001b[39mreturn\u001b[39;00m\n\u001b[0;32m--> 125\u001b[0m method(\u001b[39mself\u001b[39;49m, \u001b[39m*\u001b[39;49margs, \u001b[39m*\u001b[39;49m\u001b[39m*\u001b[39;49mkwargs)\n",
      "File \u001b[0;32m~/miniconda3/envs/photo_sync/lib/python3.10/site-packages/flickrapi/core.py:609\u001b[0m, in \u001b[0;36mFlickrAPI.authenticate_via_browser\u001b[0;34m(self, perms)\u001b[0m\n\u001b[1;32m    606\u001b[0m     perms \u001b[39m=\u001b[39m six\u001b[39m.\u001b[39mu(perms)\n\u001b[1;32m    608\u001b[0m \u001b[39mself\u001b[39m\u001b[39m.\u001b[39mflickr_oauth\u001b[39m.\u001b[39mget_request_token()\n\u001b[0;32m--> 609\u001b[0m \u001b[39mself\u001b[39;49m\u001b[39m.\u001b[39;49mflickr_oauth\u001b[39m.\u001b[39;49mauth_via_browser(perms\u001b[39m=\u001b[39;49mperms)\n\u001b[1;32m    610\u001b[0m token \u001b[39m=\u001b[39m \u001b[39mself\u001b[39m\u001b[39m.\u001b[39mflickr_oauth\u001b[39m.\u001b[39mget_access_token()\n\u001b[1;32m    611\u001b[0m \u001b[39mself\u001b[39m\u001b[39m.\u001b[39mtoken_cache\u001b[39m.\u001b[39mtoken \u001b[39m=\u001b[39m token\n",
      "File \u001b[0;32m~/miniconda3/envs/photo_sync/lib/python3.10/site-packages/flickrapi/auth.py:416\u001b[0m, in \u001b[0;36mOAuthFlickrInterface.auth_via_browser\u001b[0;34m(self, perms)\u001b[0m\n\u001b[1;32m    413\u001b[0m \u001b[39mif\u001b[39;00m \u001b[39mnot\u001b[39;00m webbrowser\u001b[39m.\u001b[39mopen_new_tab(url):\n\u001b[1;32m    414\u001b[0m     \u001b[39mraise\u001b[39;00m exceptions\u001b[39m.\u001b[39mFlickrError(\u001b[39m'\u001b[39m\u001b[39mUnable to open a browser to visit \u001b[39m\u001b[39m%s\u001b[39;00m\u001b[39m'\u001b[39m \u001b[39m%\u001b[39m url)\n\u001b[0;32m--> 416\u001b[0m \u001b[39mself\u001b[39m\u001b[39m.\u001b[39mverifier \u001b[39m=\u001b[39m \u001b[39mself\u001b[39m\u001b[39m.\u001b[39mauth_http_server\u001b[39m.\u001b[39mwait_for_oauth_verifier()\n\u001b[1;32m    418\u001b[0m \u001b[39m# We're now done with the HTTP server, so close it down again.\u001b[39;00m\n\u001b[1;32m    419\u001b[0m \u001b[39mself\u001b[39m\u001b[39m.\u001b[39m_stop_http_server()\n",
      "File \u001b[0;32m~/miniconda3/envs/photo_sync/lib/python3.10/site-packages/flickrapi/auth.py:206\u001b[0m, in \u001b[0;36mOAuthFlickrInterface.verifier\u001b[0;34m(self, new_verifier)\u001b[0m\n\u001b[1;32m    202\u001b[0m \u001b[39m@verifier\u001b[39m\u001b[39m.\u001b[39msetter\n\u001b[1;32m    203\u001b[0m \u001b[39mdef\u001b[39;00m \u001b[39mverifier\u001b[39m(\u001b[39mself\u001b[39m, new_verifier):\n\u001b[1;32m    204\u001b[0m     \u001b[39m\"\"\"Sets the OAuth verifier\"\"\"\u001b[39;00m\n\u001b[0;32m--> 206\u001b[0m     \u001b[39massert\u001b[39;00m \u001b[39misinstance\u001b[39m(new_verifier, six\u001b[39m.\u001b[39mtext_type), \u001b[39m'\u001b[39m\u001b[39mverifier must be unicode text type\u001b[39m\u001b[39m'\u001b[39m\n\u001b[1;32m    207\u001b[0m     \u001b[39mself\u001b[39m\u001b[39m.\u001b[39moauth\u001b[39m.\u001b[39mclient\u001b[39m.\u001b[39mverifier \u001b[39m=\u001b[39m new_verifier\n",
      "\u001b[0;31mAssertionError\u001b[0m: verifier must be unicode text type"
     ]
    }
   ],
   "source": [
    "#creating connection\n",
    "import flickrapi\n",
    "\n",
    "api_key = cred_data[\"api_key\"]\n",
    "api_secret = cred_data[\"api_secret\"]\n",
    "api_key = u\"28cf4b23adf7fc1eddfe3b9fa5417324\"\n",
    "api_secret = u\"42cce399bc0a5f13\"\n",
    "\n",
    "flickr = flickrapi.FlickrAPI(api_key, api_secret)\n",
    "flickr.authenticate_via_browser(perms='write')"
   ]
  },
  {
   "cell_type": "code",
   "execution_count": 6,
   "metadata": {},
   "outputs": [
    {
     "data": {
      "text/plain": [
       "[FlickrAPI for key \"28cf4b23adf7fc1eddfe3b9fa5417324\"]"
      ]
     },
     "execution_count": 6,
     "metadata": {},
     "output_type": "execute_result"
    }
   ],
   "source": [
    "flickr"
   ]
  },
  {
   "cell_type": "code",
   "execution_count": 7,
   "metadata": {},
   "outputs": [
    {
     "name": "stderr",
     "output_type": "stream",
     "text": [
      "127.0.0.1 - - [30/Jan/2023 12:43:57] code 400, message Bad request version ('\\x02h2\\x08http/1.1\\x00\\x12\\x00\\x00\\x00\\x17\\x00\\x00\\x00')\n",
      "127.0.0.1 - - [30/Jan/2023 12:43:57] \"\u0016\u0003\u0001\u0002\u0000\u0001\u0000\u0001ü\u0003\u0003*7\u001d\u0011aÓ¨¬,ñ·ÆªÀY,T\u0015tÎÀ#ï>µ\u0014 ` ì± \u001be\u0006\u000f<µèÓ±ä\u0007!w\u0001\u0005ú(Cùuÿîñ­e\u0000 ÊÊ\u0013\u0001\u0013\u0002\u0013\u0003À+À/À,À0Ì©Ì¨À\u0013À\u0014\u0000\u0000\u0000/\u00005\u0001\u0000\u0001êê\u0000\u0000\u0000\u0005\u0000\u0005\u0001\u0000\u0000\u0000\u0000\u0000-\u0000\u0002\u0001\u0001\u0000#\u0000\u0000\u0000\u0010\u0000\u000e\u0000\f\u0002hhttp/1.1\u0000\u0012\u0000\u0000\u0000\u0017\u0000\u0000\u0000\" 400 -\n"
     ]
    },
    {
     "ename": "AssertionError",
     "evalue": "verifier must be unicode text type",
     "output_type": "error",
     "traceback": [
      "\u001b[0;31m---------------------------------------------------------------------------\u001b[0m",
      "\u001b[0;31mAssertionError\u001b[0m                            Traceback (most recent call last)",
      "\u001b[1;32m/home/bruno/git/photo_syncing/flickr-api/flickr_api_test.ipynb Cell 5\u001b[0m in \u001b[0;36m<cell line: 1>\u001b[0;34m()\u001b[0m\n\u001b[0;32m----> <a href='vscode-notebook-cell:/home/bruno/git/photo_syncing/flickr-api/flickr_api_test.ipynb#W5sZmlsZQ%3D%3D?line=0'>1</a>\u001b[0m flickr\u001b[39m.\u001b[39;49mauthenticate_via_browser(perms\u001b[39m=\u001b[39;49m\u001b[39m'\u001b[39;49m\u001b[39mwrite\u001b[39;49m\u001b[39m'\u001b[39;49m)\n\u001b[1;32m      <a href='vscode-notebook-cell:/home/bruno/git/photo_syncing/flickr-api/flickr_api_test.ipynb#W5sZmlsZQ%3D%3D?line=1'>2</a>\u001b[0m \u001b[39mprint\u001b[39m(\u001b[39m\"\u001b[39m\u001b[39mhaha\u001b[39m\u001b[39m\"\u001b[39m)\n",
      "File \u001b[0;32m~/miniconda3/envs/photo_sync/lib/python3.10/site-packages/flickrapi/core.py:125\u001b[0m, in \u001b[0;36mauthenticator.<locals>.decorated\u001b[0;34m(self, *args, **kwargs)\u001b[0m\n\u001b[1;32m    120\u001b[0m \u001b[39mif\u001b[39;00m \u001b[39mself\u001b[39m\u001b[39m.\u001b[39mtoken_valid(perms\u001b[39m=\u001b[39mperms):\n\u001b[1;32m    121\u001b[0m     \u001b[39m# Token is valid, and for the expected permissions, so no\u001b[39;00m\n\u001b[1;32m    122\u001b[0m     \u001b[39m# need to continue authentication.\u001b[39;00m\n\u001b[1;32m    123\u001b[0m     \u001b[39mreturn\u001b[39;00m\n\u001b[0;32m--> 125\u001b[0m method(\u001b[39mself\u001b[39;49m, \u001b[39m*\u001b[39;49margs, \u001b[39m*\u001b[39;49m\u001b[39m*\u001b[39;49mkwargs)\n",
      "File \u001b[0;32m~/miniconda3/envs/photo_sync/lib/python3.10/site-packages/flickrapi/core.py:609\u001b[0m, in \u001b[0;36mFlickrAPI.authenticate_via_browser\u001b[0;34m(self, perms)\u001b[0m\n\u001b[1;32m    606\u001b[0m     perms \u001b[39m=\u001b[39m six\u001b[39m.\u001b[39mu(perms)\n\u001b[1;32m    608\u001b[0m \u001b[39mself\u001b[39m\u001b[39m.\u001b[39mflickr_oauth\u001b[39m.\u001b[39mget_request_token()\n\u001b[0;32m--> 609\u001b[0m \u001b[39mself\u001b[39;49m\u001b[39m.\u001b[39;49mflickr_oauth\u001b[39m.\u001b[39;49mauth_via_browser(perms\u001b[39m=\u001b[39;49mperms)\n\u001b[1;32m    610\u001b[0m token \u001b[39m=\u001b[39m \u001b[39mself\u001b[39m\u001b[39m.\u001b[39mflickr_oauth\u001b[39m.\u001b[39mget_access_token()\n\u001b[1;32m    611\u001b[0m \u001b[39mself\u001b[39m\u001b[39m.\u001b[39mtoken_cache\u001b[39m.\u001b[39mtoken \u001b[39m=\u001b[39m token\n",
      "File \u001b[0;32m~/miniconda3/envs/photo_sync/lib/python3.10/site-packages/flickrapi/auth.py:416\u001b[0m, in \u001b[0;36mOAuthFlickrInterface.auth_via_browser\u001b[0;34m(self, perms)\u001b[0m\n\u001b[1;32m    413\u001b[0m \u001b[39mif\u001b[39;00m \u001b[39mnot\u001b[39;00m webbrowser\u001b[39m.\u001b[39mopen_new_tab(url):\n\u001b[1;32m    414\u001b[0m     \u001b[39mraise\u001b[39;00m exceptions\u001b[39m.\u001b[39mFlickrError(\u001b[39m'\u001b[39m\u001b[39mUnable to open a browser to visit \u001b[39m\u001b[39m%s\u001b[39;00m\u001b[39m'\u001b[39m \u001b[39m%\u001b[39m url)\n\u001b[0;32m--> 416\u001b[0m \u001b[39mself\u001b[39m\u001b[39m.\u001b[39mverifier \u001b[39m=\u001b[39m \u001b[39mself\u001b[39m\u001b[39m.\u001b[39mauth_http_server\u001b[39m.\u001b[39mwait_for_oauth_verifier()\n\u001b[1;32m    418\u001b[0m \u001b[39m# We're now done with the HTTP server, so close it down again.\u001b[39;00m\n\u001b[1;32m    419\u001b[0m \u001b[39mself\u001b[39m\u001b[39m.\u001b[39m_stop_http_server()\n",
      "File \u001b[0;32m~/miniconda3/envs/photo_sync/lib/python3.10/site-packages/flickrapi/auth.py:206\u001b[0m, in \u001b[0;36mOAuthFlickrInterface.verifier\u001b[0;34m(self, new_verifier)\u001b[0m\n\u001b[1;32m    202\u001b[0m \u001b[39m@verifier\u001b[39m\u001b[39m.\u001b[39msetter\n\u001b[1;32m    203\u001b[0m \u001b[39mdef\u001b[39;00m \u001b[39mverifier\u001b[39m(\u001b[39mself\u001b[39m, new_verifier):\n\u001b[1;32m    204\u001b[0m     \u001b[39m\"\"\"Sets the OAuth verifier\"\"\"\u001b[39;00m\n\u001b[0;32m--> 206\u001b[0m     \u001b[39massert\u001b[39;00m \u001b[39misinstance\u001b[39m(new_verifier, six\u001b[39m.\u001b[39mtext_type), \u001b[39m'\u001b[39m\u001b[39mverifier must be unicode text type\u001b[39m\u001b[39m'\u001b[39m\n\u001b[1;32m    207\u001b[0m     \u001b[39mself\u001b[39m\u001b[39m.\u001b[39moauth\u001b[39m.\u001b[39mclient\u001b[39m.\u001b[39mverifier \u001b[39m=\u001b[39m new_verifier\n",
      "\u001b[0;31mAssertionError\u001b[0m: verifier must be unicode text type"
     ]
    }
   ],
   "source": [
    "flickr.authenticate_via_browser(perms='write')\n",
    "print(\"haha\")"
   ]
  },
  {
   "attachments": {},
   "cell_type": "markdown",
   "metadata": {},
   "source": [
    "Working with oauth and requests: https://github.com/requests/requests-oauthlib"
   ]
  },
  {
   "attachments": {},
   "cell_type": "markdown",
   "metadata": {},
   "source": [
    "# using flickr_api\n",
    "https://github.com/alexis-mignon/python-flickr-api/wiki/Flickr-API-Keys-and-Authentication"
   ]
  },
  {
   "cell_type": "code",
   "execution_count": 12,
   "metadata": {},
   "outputs": [],
   "source": [
    "import flickr_api"
   ]
  },
  {
   "cell_type": "code",
   "execution_count": 13,
   "metadata": {},
   "outputs": [],
   "source": [
    "flickr_api.set_keys(api_key = cred_data[\"api_key\"], api_secret = cred_data[\"api_secret\"])"
   ]
  },
  {
   "cell_type": "code",
   "execution_count": 14,
   "metadata": {},
   "outputs": [
    {
     "name": "stdout",
     "output_type": "stream",
     "text": [
      "https://www.flickr.com/services/oauth/authorize?oauth_token=72157720872105463-d42e6aff3d6ad554&perms=write\n"
     ]
    }
   ],
   "source": [
    "a = flickr_api.auth.AuthHandler() # creates a new AuthHandler object\n",
    "perms = 'write'\n",
    "url = a.get_authorization_url(perms)\n",
    "print(url)"
   ]
  },
  {
   "cell_type": "code",
   "execution_count": 15,
   "metadata": {},
   "outputs": [],
   "source": [
    "oatuh_verifier = \"edb204b69f80f843\"\n",
    "a.set_verifier(oatuh_verifier)\n",
    "flickr_api.set_auth_handler(a)"
   ]
  },
  {
   "cell_type": "code",
   "execution_count": 16,
   "metadata": {},
   "outputs": [],
   "source": [
    "a.save('authentication_file.txt')"
   ]
  },
  {
   "cell_type": "code",
   "execution_count": null,
   "metadata": {},
   "outputs": [],
   "source": [
    "#quick opening: \n",
    "flickr_api.set_auth_handler('authentication_file.txt')"
   ]
  },
  {
   "cell_type": "code",
   "execution_count": null,
   "metadata": {},
   "outputs": [],
   "source": [
    "flickr.set_keys(api_key = cred_data[\"api_key\"], api_secret = cred_data[\"api_secret\"]) # not this line if you store these details in flickr_keys.py\n",
    "flickr.set_auth_handler(\".authentication_file.txt\") # or whatever you save your auth file as"
   ]
  },
  {
   "attachments": {},
   "cell_type": "markdown",
   "metadata": {},
   "source": [
    "## getting data\n",
    "### uploading a file"
   ]
  },
  {
   "cell_type": "code",
   "execution_count": 53,
   "metadata": {},
   "outputs": [],
   "source": [
    "user = flickr_api.Person.findByUserName('brunoruns')\n",
    "\n",
    "path = '../google-photos-api/downloads/'\n",
    "filename = 'test.jpeg'\n",
    "#a_photo = flickr_api.upload(photo_file = os.path.join(path, filename), title = filename, is_public=\"0\")\n"
   ]
  },
  {
   "cell_type": "code",
   "execution_count": 54,
   "metadata": {},
   "outputs": [],
   "source": [
    "#correct datetime, maybe not necessary"
   ]
  },
  {
   "attachments": {},
   "cell_type": "markdown",
   "metadata": {},
   "source": [
    "### handling album"
   ]
  },
  {
   "cell_type": "code",
   "execution_count": 22,
   "metadata": {},
   "outputs": [
    {
     "data": {
      "text/plain": [
       "'Auto Upload'"
      ]
     },
     "execution_count": 22,
     "metadata": {},
     "output_type": "execute_result"
    }
   ],
   "source": [
    "user = flickr_api.Person.findByUserName('brunoruns')\n",
    "photosets = user.getPhotosets()\n",
    "\n",
    "photosets[0].title"
   ]
  },
  {
   "cell_type": "code",
   "execution_count": 55,
   "metadata": {},
   "outputs": [
    {
     "name": "stdout",
     "output_type": "stream",
     "text": [
      "required index: 4\n"
     ]
    }
   ],
   "source": [
    "required_index = 0;\n",
    "for i in range(0, len(photosets)):\n",
    "    #print(photosets[i].title)\n",
    "    if (photosets[i].title == \"sync google photos sara\"):\n",
    "        print(\"required index: \" + str(i))\n",
    "        required_index = i\n",
    "\n",
    "auto_album = photosets[required_index]"
   ]
  },
  {
   "cell_type": "code",
   "execution_count": 56,
   "metadata": {},
   "outputs": [
    {
     "data": {
      "text/plain": [
       "'72157719052449212'"
      ]
     },
     "execution_count": 56,
     "metadata": {},
     "output_type": "execute_result"
    }
   ],
   "source": [
    "auto_album.id"
   ]
  },
  {
   "cell_type": "code",
   "execution_count": 57,
   "metadata": {},
   "outputs": [],
   "source": [
    "auto_album.addPhoto(photo = a_photo) "
   ]
  },
  {
   "cell_type": "code",
   "execution_count": 60,
   "metadata": {},
   "outputs": [
    {
     "name": "stdout",
     "output_type": "stream",
     "text": [
      "4_5958466622900407634.mp4 succesfully read ?\n",
      "PXL_20230115_155815198.jpg succesfully read ?\n",
      "-5931444222433540678_121.jpg succesfully read ?\n",
      "PXL_20230128_111935877.mp4 succesfully read ?\n",
      "PXL_20230108_151444222.jpg succesfully read ?\n",
      "PXL_20230114_161511786.PORTRAIT.jpg succesfully read ?\n",
      "4_5958466622900407635.mp4 succesfully read ?\n",
      "PXL_20230108_151445978.jpg succesfully read ?\n",
      "PXL_20230114_161510024.PORTRAIT.jpg succesfully read ?\n",
      "PXL_20230110_180441521.mp4 succesfully read ?\n",
      "PXL_20230114_161445825.PORTRAIT.jpg succesfully read ?\n",
      "PXL_20230128_165614133.jpg succesfully read ?\n",
      "PXL_20230114_161510898.PORTRAIT.jpg succesfully read ?\n",
      "PXL_20230114_131832672.PORTRAIT.jpg succesfully read ?\n",
      "4_5931444221977300292.mp4 succesfully read ?\n",
      "PXL_20230115_155757968.MP.jpg succesfully read ?\n",
      "4_5958466622900407633.mp4 succesfully read ?\n",
      "PXL_20230128_083405553.PORTRAIT.jpg succesfully read ?\n",
      "PXL_20230114_131730072.PORTRAIT.jpg succesfully read ?\n",
      "PXL_20230108_151344562.MP.jpg succesfully read ?\n",
      "PXL_20230122_134047176.PORTRAIT.jpg succesfully read ?\n",
      "PXL_20230108_151442891.jpg succesfully read ?\n",
      "PXL_20230128_165602548.MP.jpg succesfully read ?\n",
      "PXL_20230128_165611657.MP.jpg succesfully read ?\n",
      "PXL_20230114_161454228.PORTRAIT.jpg succesfully read ?\n",
      "PXL_20230114_161440416.PORTRAIT.jpg succesfully read ?\n",
      "IMG-20230108-WA0011.jpg succesfully read ?\n",
      "PXL_20230115_155813251.MP.jpg succesfully read ?\n",
      "PXL_20230127_163047156.MP.jpg succesfully read ?\n",
      "PXL_20230122_134043171.PORTRAIT.jpg succesfully read ?\n",
      "PXL_20230108_151344562_exported_599_1673200661545.jpg succesfully read ?\n",
      "PXL_20230108_151441478.jpg succesfully read ?\n",
      "PXL_20230115_155759123.MP.jpg succesfully read ?\n",
      "PXL_20230108_151353940.jpg succesfully read ?\n",
      "PXL_20230127_163049572.MP.jpg succesfully read ?\n",
      "PXL_20230114_131729027.PORTRAIT.jpg succesfully read ?\n",
      "PXL_20230128_083413299.PORTRAIT.jpg succesfully read ?\n"
     ]
    }
   ],
   "source": [
    "### script to load everything in the map\n",
    "source_folder = \"../google-photos-api/downloads/\"\n",
    "files_list = os.listdir(source_folder)\n",
    "\n",
    "for file_name in files_list:\n",
    "    im = Image.open(os.path.join(source_folder, file_name))  \n",
    "    print(file_name + \" succesfully read ?\")\n",
    "\n",
    "    path = source_folder\n",
    "    filename = file_name\n",
    "    a_photo = flickr_api.upload(photo_file = os.path.join(path, filename), title = filename, is_public=\"0\")\n",
    "\n",
    "    auto_album.addPhoto(photo = a_photo)"
   ]
  },
  {
   "cell_type": "code",
   "execution_count": 61,
   "metadata": {},
   "outputs": [],
   "source": [
    "### data cleanup\n",
    "#wipe verything in the downloads folder\n",
    "#TODO writing latest known date of sync\n",
    "from datetime import date\n",
    "\n",
    "edate = date.today()\n",
    "with open('last_run.text', 'w') as f:\n",
    "    f.write(str(edate))"
   ]
  },
  {
   "cell_type": "code",
   "execution_count": 73,
   "metadata": {},
   "outputs": [
    {
     "name": "stdout",
     "output_type": "stream",
     "text": [
      "01\n"
     ]
    },
    {
     "data": {
      "text/plain": [
       "datetime.date(2023, 1, 30)"
      ]
     },
     "execution_count": 73,
     "metadata": {},
     "output_type": "execute_result"
    }
   ],
   "source": [
    "stringDate = \"\"\n",
    "with open('../last_run.txt', 'r') as f:\n",
    "    stringDate = f.read()\n",
    "    print(stringDate[5:7])\n",
    "edate = date(int(stringDate[0:4]),int(stringDate[5:7]), int(stringDate[8:10]))\n",
    "edate"
   ]
  },
  {
   "cell_type": "code",
   "execution_count": 75,
   "metadata": {},
   "outputs": [
    {
     "data": {
      "text/plain": [
       "True"
      ]
     },
     "execution_count": 75,
     "metadata": {},
     "output_type": "execute_result"
    }
   ],
   "source": [
    "os.path.isfile(\"../last_run.txt\")"
   ]
  },
  {
   "cell_type": "code",
   "execution_count": null,
   "metadata": {},
   "outputs": [],
   "source": []
  }
 ],
 "metadata": {
  "kernelspec": {
   "display_name": "photo_sync",
   "language": "python",
   "name": "python3"
  },
  "language_info": {
   "codemirror_mode": {
    "name": "ipython",
    "version": 3
   },
   "file_extension": ".py",
   "mimetype": "text/x-python",
   "name": "python",
   "nbconvert_exporter": "python",
   "pygments_lexer": "ipython3",
   "version": "3.10.8"
  },
  "orig_nbformat": 4,
  "vscode": {
   "interpreter": {
    "hash": "993c687acff4d36a92770ecb368a1e4daa4eb69b5430147f4a90e2b91c6cb5f1"
   }
  }
 },
 "nbformat": 4,
 "nbformat_minor": 2
}
